{
 "cells": [
  {
   "cell_type": "markdown",
   "id": "be8f2848",
   "metadata": {},
   "source": [
    "### Energy Grades\n",
    "Local Law 33 of 2018 amended the Administrative Code of the City of New York in relation to energy efficiency scores and grades for buildings required to benchmark their energy and water consumption. These energy efficiency scores and grades for these buildings are assigned and disclosed in accordance with the new section §28-309.12 annually, based on benchmarking reporting consistent with Federal energy efficiency standards.\n",
    "\n",
    "An energy efficiency score is the Energy Star Rating that a building earns using the United States Environmental Protection Agency online benchmarking tool, Energy Star Portfolio Manager, to compare building energy performance to similar buildings in similar climates. As per Local Law 95 of 2019 grades based on Energy Star energy efficiency scores will be assigned as follows:\n",
    "\n",
    "A – score is equal to or greater than 85\n",
    "\n",
    "B – score is equal to or greater than 70 but less than 85\n",
    "\n",
    "C – score is equal to or greater than 55 but less than 70\n",
    "\n",
    "D – score is less than 55\n",
    "\n",
    "F – for buildings that didn’t submit required benchmarking information\n",
    "\n",
    "N – for buildings exempted from benchmarking or not covered by the Energy Star program.\n",
    "\n",
    "The energy label includes both a letter grade and the energy efficiency score of the building. Please reference the following document for more information Local Law 33 as amended by LL95 of 2019 Steps to Compliance.\n",
    "\n",
    "Additional Information\n",
    "For more details and to start the benchmarking process, please reference the Local Law 33 as amended by LL95 of 2019 Steps to Compliance, LL33 - Frequently Asked Questions, and visit the Compliance Instructions page.\n",
    "\n",
    "The status of a violation can be found online by using the Department’s Building Information System (BIS) at any time. To follow up by email, please send inquiries to sustainability@buildings.nyc.gov with the BBL, BIN, address and violation number for the building.\n",
    "\n",
    "If you believe a violation was issued in error, you may submit a Benchmarking Violation Challenge Form. This form must be sent to the Department within 30 days of the violation postmark. Email the form to sustainability@buildings.nyc.gov.\n",
    "\n",
    "To follow up on a challenge, please call the (212) 393-2574 or email sustainability@buildings.nyc.gov.\n",
    "\n",
    "Additional Resources\n",
    "NYC Mayor's Office of Sustainability\n",
    "\n",
    "Energy Star Portfolio Manager\n",
    "\n",
    "DOF Benchmarking Website"
   ]
  },
  {
   "cell_type": "code",
   "execution_count": null,
   "id": "3072fa1d",
   "metadata": {},
   "outputs": [],
   "source": [
    "from math import pi\n",
    "import holoviews as hv\n",
    "import panel as pn\n",
    "import pandas as pd\n",
    "import numpy as np\n",
    "import hvplot.pandas\n",
    "import os\n",
    "import hvplot.pandas  # noqa\n",
    "import matplotlib\n",
    "pn.extension()\n",
    "pn.extension('tabulator')\n",
    "hv.extension(\"bokeh\")\n",
    "from bokeh.io import output_notebook\n",
    "from bokeh.resources import INLINE\n",
    "from bokeh.plotting import figure, output_file, show\n",
    "from bokeh.palettes import Category20c, Category20,Category10\n",
    "from bokeh.plotting import figure\n",
    "from bokeh.transform import cumsum\n",
    "from panel.template import DefaultTheme\n",
    "from bokeh.models.widgets.tables import NumberFormatter, BooleanFormatter\n",
    "DefaultTheme.find_theme(pn.template.MaterialTemplate)\n",
    "import json\n",
    "import requests"
   ]
  },
  {
   "cell_type": "code",
   "execution_count": null,
   "id": "6f572d57",
   "metadata": {},
   "outputs": [],
   "source": [
    "# Making a get request\n",
    "Success = False\n",
    "response = requests.get('https://data.cityofnewyork.us/resource/355w-xvp2.json')\n",
    "# print response\n",
    "if response.ok:\n",
    "    print('The request succeeded')\n",
    "    Success = True\n",
    "else:\n",
    "    print('Bad Request')"
   ]
  },
  {
   "cell_type": "code",
   "execution_count": null,
   "id": "352e4590",
   "metadata": {},
   "outputs": [],
   "source": [
    "#print('https://data.cityofnewyork.us/resource/355w-xvp2.json?boroughname=BROOKLYN')"
   ]
  },
  {
   "cell_type": "code",
   "execution_count": null,
   "id": "da0312d0",
   "metadata": {},
   "outputs": [],
   "source": [
    "def Borough_Names(Place):\n",
    "    global only\n",
    "    Len_A = len(only.query(\"letterscore == 'A'\"))\n",
    "    Len_B = len(only.query(\"letterscore == 'B'\"))\n",
    "    Len_C = len(only.query(\"letterscore == 'C'\"))\n",
    "    Len_D = len(only.query(\"letterscore == 'D'\"))\n",
    "    Len_F = len(only.query(\"letterscore == 'F'\"))\n",
    "    Len_N = len(only.query(\"letterscore == 'N'\"))\n",
    "    \n",
    "    Grading = {\n",
    "    'A':int(Len_A),\n",
    "    'B':int(Len_B),\n",
    "    'C':int(Len_C),\n",
    "    'D':int(Len_D),\n",
    "    'F':int(Len_F),\n",
    "    'N':int(Len_N)}\n",
    "    \n",
    "        #making a percent\n",
    "    data = pd.Series(Grading).reset_index(name='Total').rename(columns={'index':'Grades'})\n",
    "    data['angle'] = data['Total']/data['Total'].sum() * 2*pi\n",
    "    data['color'] = Category10[len(Grading)]\n",
    "    data['percent'] = data['Total'] / sum(Grading.values()) * 100\n",
    "\n",
    "    p = figure(height=350, title= str(Place)+ \" Grades Total Percent\", toolbar_location=None,\n",
    "               tools=\"hover\", tooltips=\"@Grades: @percent{0.2f} %\", x_range=(-0.5, 1.0))\n",
    "\n",
    "    p.wedge(x=0, y=1, radius=0.4,\n",
    "            start_angle=cumsum('angle', include_zero=True), end_angle=cumsum('angle'),\n",
    "            line_color=\"white\", fill_color='color', legend_field='Grades', source=data)\n",
    "    p.axis.axis_label = None\n",
    "    p.axis.visible = False\n",
    "    p.grid.grid_line_color = None\n",
    "    \n",
    "    pie_place = p\n",
    "    return pie_place\n",
    "    "
   ]
  },
  {
   "cell_type": "code",
   "execution_count": null,
   "id": "7aa26da9",
   "metadata": {},
   "outputs": [],
   "source": [
    "def Grading_pipe():\n",
    "    global only\n",
    "    Len_A = len(only.query(\"letterscore == 'A'\"))\n",
    "    Len_B = len(only.query(\"letterscore == 'B'\"))\n",
    "    Len_C = len(only.query(\"letterscore == 'C'\"))\n",
    "    Len_D = len(only.query(\"letterscore == 'D'\"))\n",
    "    Len_F = len(only.query(\"letterscore == 'F'\"))\n",
    "    Len_N = len(only.query(\"letterscore == 'N'\"))\n",
    "    \n",
    "    Grading = {\n",
    "    'A':int(Len_A),\n",
    "    'B':int(Len_B),\n",
    "    'C':int(Len_C),\n",
    "    'D':int(Len_D),\n",
    "    'F':int(Len_F),\n",
    "    'N':int(Len_N)}\n",
    "    \n",
    "        #making a percent\n",
    "    data = pd.Series(Grading).reset_index(name='Total').rename(columns={'index':'Grades'})\n",
    "    data['percent'] = data['Total'] / sum(Grading.values()) * 100\n",
    "    Table_Data = data\n",
    "    return Table_Data"
   ]
  },
  {
   "cell_type": "code",
   "execution_count": null,
   "id": "e41f7aca",
   "metadata": {},
   "outputs": [],
   "source": [
    "bokeh_formatters = {'percent': NumberFormatter(format='0.00')}"
   ]
  },
  {
   "cell_type": "code",
   "execution_count": null,
   "id": "dc0116de",
   "metadata": {},
   "outputs": [],
   "source": [
    "# Manhattan\n",
    "only = pd.read_json(r'https://data.cityofnewyork.us/resource/355w-xvp2.json?boroughname=MANHATTAN&$limit=10000')\n",
    "#Only = (df[df['BoroughName'] == 'MANHATTAN'])\n",
    "Manhattan = (Borough_Names('Manhattan'))\n",
    "Manhattan_Table =  Grading_pipe()\n",
    "MN_widget = pn.widgets.Tabulator(Manhattan_Table,pagination='remote', page_size = 10, sizing_mode='stretch_width', formatters=bokeh_formatters)"
   ]
  },
  {
   "cell_type": "code",
   "execution_count": null,
   "id": "c4e8f672",
   "metadata": {},
   "outputs": [],
   "source": [
    "#BROOKLYN\n",
    "only = pd.read_json(r'https://data.cityofnewyork.us/resource/355w-xvp2.json?boroughname=BROOKLYN&$limit=100000')\n",
    "#Only = (df[df['BoroughName'] == 'BROOKLYN'])\n",
    "Brooklyn = (Borough_Names('Brooklyn'))\n",
    "Brooklyn_Table =  Grading_pipe()\n",
    "BK_widget = pn.widgets.Tabulator(Brooklyn_Table,pagination='remote', page_size = 10, sizing_mode='stretch_width', formatters=bokeh_formatters)"
   ]
  },
  {
   "cell_type": "code",
   "execution_count": null,
   "id": "3263f6d5",
   "metadata": {},
   "outputs": [],
   "source": [
    "#Queens\n",
    "only = pd.read_json(r'https://data.cityofnewyork.us/resource/355w-xvp2.json?boroughname=QUEENS&$limit=10000')\n",
    "#Only = (df[df['BoroughName'] == 'QUEENS'])\n",
    "Queens = (Borough_Names('Queens'))\n",
    "Queens_Table =  Grading_pipe()\n",
    "QN_widget = pn.widgets.Tabulator(Queens_Table,pagination='remote', page_size = 10, sizing_mode='stretch_width',formatters=bokeh_formatters)"
   ]
  },
  {
   "cell_type": "code",
   "execution_count": null,
   "id": "6ee1e755",
   "metadata": {},
   "outputs": [],
   "source": [
    "#BRONX\n",
    "only = pd.read_json(r'https://data.cityofnewyork.us/resource/355w-xvp2.json?boroughname=BRONX&$limit=10000')\n",
    "#Only = (df[df['BoroughName'] == 'BRONX'])\n",
    "Bronx = (Borough_Names('Bronx'))\n",
    "Bronx_Table =  Grading_pipe()\n",
    "BX_widget = pn.widgets.Tabulator(Bronx_Table,pagination='remote', page_size = 10, sizing_mode='stretch_width',formatters=bokeh_formatters)"
   ]
  },
  {
   "cell_type": "code",
   "execution_count": null,
   "id": "b5622d93",
   "metadata": {},
   "outputs": [],
   "source": [
    "#STATEN ISLAND\n",
    "only = pd.read_json(r'https://data.cityofnewyork.us/resource/355w-xvp2.json?boroughname=STATEN%20ISLAND&$limit=10000')\n",
    "#Only = (df[df['BoroughName'] == 'STATEN ISLAND'])\n",
    "Staten_Island = (Borough_Names('Staten Island'))\n",
    "Staten_Island_Table =  Grading_pipe()\n",
    "IS_widget = pn.widgets.Tabulator(Staten_Island_Table,pagination='remote', page_size = 10, sizing_mode='stretch_width')"
   ]
  },
  {
   "cell_type": "code",
   "execution_count": null,
   "id": "d4222b87",
   "metadata": {},
   "outputs": [],
   "source": [
    "#Layout using Template\n",
    "template = pn.template.FastListTemplate(\n",
    "    title='Building Energy Grading dashboard', sidebar=[pn.pane.Markdown(\"# Energy Grades\"), \n",
    "             pn.pane.Markdown(\"#### Local Law 33 of 2018 amended the Administrative Code of the City of New York in relation to energy efficiency scores and grades for buildings required to benchmark their energy and water consumption. These energy efficiency scores and grades for these buildings are assigned and disclosed in accordance with the new section §28-309.12 annually, based on benchmarking reporting consistent with Federal energy efficiency standards. An energy efficiency score is the Energy Star Rating that a building earns using the United States Environmental Protection Agency online benchmarking tool, Energy Star Portfolio Manager, to compare building energy performance to similar buildings in similar climates. As per Local Law 95 of 2019 grades based on Energy Star energy efficiency scores will be assigned as follows: A – score is equal to or greater than 85 B – score is equal to or greater than 70 but less than 85 C – score is equal to or greater than 55 but less than 70 D – score is less than 55 F – for buildings that didn’t submit required benchmarking information N – for buildings exempted from benchmarking or not covered by the Energy Star program. The energy label includes both a letter grade and the energy efficiency score of the building. Please reference the following document for more information Local Law 33 as amended by LL95 of 2019 Steps to Compliance. Additional Information For more details and to start the benchmarking process, please reference the Local Law 33 as amended by LL95 of 2019 Steps to Compliance, LL33 - Frequently Asked Questions, and visit the Compliance Instructions page. The status of a violation can be found online by using the Department’s Building Information System (BIS) at any time. To follow up by email, please send inquiries to sustainability@buildings.nyc.gov with the BBL, BIN, address and violation number for the building. If you believe a violation was issued in error, you may submit a Benchmarking Violation Challenge Form. This form must be sent to the Department within 30 days of the violation postmark. Email the form to sustainability@buildings.nyc.gov. To follow up on a challenge, please call the (212) 393-2574 or email sustainability@buildings.nyc.gov. Additional Resources NYC Mayor's Office of Sustainability Energy Star Portfolio Manager DOF Benchmarking Website.\")\n",
    "            ],\n",
    "    main = [\n",
    "        pn.Row(pn.Column(Manhattan),pn.Column(MN_widget)),\n",
    "        pn.Row(pn.Column(Brooklyn),pn.Column(BK_widget)),\n",
    "        pn.Row(pn.Column(Queens),pn.Column(QN_widget)),\n",
    "        pn.Row(pn.Column(Bronx),pn.Column(BX_widget)),\n",
    "        pn.Row(pn.Column(Staten_Island),pn.Column(IS_widget))],\n",
    "    accent_base_color=\"#88d8b0\",\n",
    "    header_background=\"#88d8b0\",\n",
    ")\n",
    "\n",
    "template.show()\n",
    "template.servable();"
   ]
  },
  {
   "cell_type": "code",
   "execution_count": null,
   "id": "2cd22a7e",
   "metadata": {},
   "outputs": [],
   "source": []
  }
 ],
 "metadata": {
  "kernelspec": {
   "display_name": "Python 3",
   "language": "python",
   "name": "python3"
  },
  "language_info": {
   "codemirror_mode": {
    "name": "ipython",
    "version": 3
   },
   "file_extension": ".py",
   "mimetype": "text/x-python",
   "name": "python",
   "nbconvert_exporter": "python",
   "pygments_lexer": "ipython3",
   "version": "3.7.10"
  }
 },
 "nbformat": 4,
 "nbformat_minor": 5
}
